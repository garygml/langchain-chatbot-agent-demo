{
 "cells": [
  {
   "cell_type": "markdown",
   "id": "b8e5e387-c91c-411c-b262-b03bc0edfbd4",
   "metadata": {},
   "source": [
    "# Use pymupdf to convert PDF to JSON\n",
    "1. Use \n",
    "```PyMuPDFLoader```"
   ]
  },
  {
   "cell_type": "code",
   "execution_count": 4,
   "id": "283c211b-4f2c-4b48-99f4-c3c676a45547",
   "metadata": {},
   "outputs": [
    {
     "data": {
      "text/plain": [
       "Document(page_content='Nobel Burger\\nYYZ Terminal 3\\nDate: 2019-04-14 16:44:31\\nCard Type: MasterCard\\nAcct: xxxxxxxxxxxxxxxx\\nCard Entry: Swiped\\nCheck: 7462 - TBL_21_2-2746e\\nServer: iPad\\nSubtotal: $15.82\\nTip: $2.52\\nTotal: $18.34\\n-- Thank You --\\n-- Customer Copy --\\n', metadata={'source': './pdf/eReceipt-TBL_21_2-2746e.pdf', 'file_path': './pdf/eReceipt-TBL_21_2-2746e.pdf', 'page': 0, 'total_pages': 1, 'format': 'PDF 1.4', 'title': '', 'author': '', 'subject': '', 'keywords': '', 'creator': '', 'producer': 'FPDF 1.7', 'creationDate': 'D:20190414204456', 'modDate': '', 'trapped': ''})"
      ]
     },
     "execution_count": 4,
     "metadata": {},
     "output_type": "execute_result"
    }
   ],
   "source": [
    "from langchain_community.document_loaders import PyMuPDFLoader\n",
    "from langchain_community.document_loaders import JSONLoader\n",
    "\n",
    "from pathlib import Path\n",
    "from pprint import pprint\n",
    "\n",
    "loader = PyMuPDFLoader(\"./pdf/eReceipt-TBL_21_2-2746e.pdf\")\n",
    "data = loader.load()\n",
    "data[0]"
   ]
  },
  {
   "cell_type": "markdown",
   "id": "3dd35bb2-dfa7-4ee3-88d7-6e0cb5455464",
   "metadata": {},
   "source": [
    "2. Use\n",
    "```fitz```"
   ]
  },
  {
   "cell_type": "code",
   "execution_count": 10,
   "id": "871156ef-d382-4233-b732-928d6b1f2fd6",
   "metadata": {},
   "outputs": [
    {
     "name": "stdout",
     "output_type": "stream",
     "text": [
      "[(263.05999755859375, 72.32999420166016, 369.09796142578125, 97.06199645996094, 'Nobel Burger\\n', 0, 0), (266.4599914550781, 91.15999603271484, 349.8119812011719, 107.64799499511719, 'YYZ Terminal 3\\n', 1, 0), (144.57000732421875, 119.5000228881836, 315.3299560546875, 206.85801696777344, 'Date: 2019-04-14 16:44:31\\nCard Type: MasterCard\\nAcct: xxxxxxxxxxxxxxxx\\nCard Entry: Swiped\\nCheck: 7462 - TBL_21_2-2746e\\nServer: iPad\\n', 2, 0), (144.57000732421875, 217.17002868652344, 238.0819854736328, 236.40603637695312, 'Subtotal: $15.82\\n', 3, 0), (144.57000732421875, 245.50999450683594, 206.82798767089844, 264.7460021972656, 'Tip: $2.52\\n', 4, 0), (144.57000732421875, 273.86004638671875, 226.281982421875, 293.0960388183594, 'Total: $18.34\\n', 5, 0), (257.95001220703125, 316.3800354003906, 352.0859375, 335.61602783203125, '-- Thank You --\\n', 6, 0), (235.27999877929688, 343.1700134277344, 376.6239929199219, 365.1540222167969, '-- Customer Copy --\\n', 7, 0)]\n"
     ]
    },
    {
     "data": {
      "text/plain": [
       "[{'page_number': 1,\n",
       "  'page_text': 'Nobel Burger\\n\\nYYZ Terminal 3\\n\\nDate: 2019-04-14 16:44:31\\nCard Type: MasterCard\\nAcct: xxxxxxxxxxxxxxxx\\nCard Entry: Swiped\\nCheck: 7462 - TBL_21_2-2746e\\nServer: iPad\\n\\nSubtotal: $15.82\\n\\nTip: $2.52\\n\\nTotal: $18.34\\n\\n-- Thank You --\\n\\n-- Customer Copy --'}]"
      ]
     },
     "execution_count": 10,
     "metadata": {},
     "output_type": "execute_result"
    }
   ],
   "source": [
    "\n",
    "import fitz\n",
    "doc = fitz.open(\"./pdf/eReceipt-TBL_21_2-2746e.pdf\")\n",
    "page_text_list = []\n",
    "for page_number, page in enumerate(doc, start=1):\n",
    "    text = \"\"\n",
    "    blocks = page.get_text(\"blocks\")\n",
    "    print(blocks)\n",
    "    for block in blocks:\n",
    "        text += block[4] + \"\\n\"\n",
    "    page_text = text.strip()\n",
    "    page_text_list.append({\"page_number\": page_number, \"page_text\": page_text})\n",
    "print(page_text_list)"
   ]
  },
  {
   "cell_type": "markdown",
   "id": "3b61559e-9e6b-4345-9611-9bab6f9bc5b8",
   "metadata": {},
   "source": [
    "# How to write JSON to file"
   ]
  },
  {
   "cell_type": "code",
   "execution_count": 14,
   "id": "228cb815-1348-43c3-87e7-838ba430f3c9",
   "metadata": {},
   "outputs": [],
   "source": [
    "import json\n",
    "f = open(\"./json/output.json\", \"w\") \n",
    "f.write(json.dumps(page_text_list))\n",
    "f.close()"
   ]
  },
  {
   "cell_type": "markdown",
   "id": "79177e99-8f83-4b71-a5b3-852cab71f1ac",
   "metadata": {},
   "source": [
    "# Combining everything together\n",
    "Read all PDFs in a folder, use ```fitz``` to convert to JSON and write JSON to file"
   ]
  },
  {
   "cell_type": "code",
   "execution_count": 11,
   "id": "b5023438-cec0-48e7-a881-e576912c5ada",
   "metadata": {},
   "outputs": [
    {
     "name": "stdout",
     "output_type": "stream",
     "text": [
      "['./pdf/receipt.pdf', './pdf/eReceipt-TBL_21_2-2746e.pdf']\n"
     ]
    }
   ],
   "source": [
    "import os\n",
    "import json\n",
    "from pathlib import Path\n",
    "from pprint import pprint\n",
    "import fitz\n",
    "\n",
    "extensions = [\".pdf\"]\n",
    "file_paths = []\n",
    "for root, dirs, files in os.walk(\"./pdf\"):\n",
    "    for file in files: \n",
    "        _, file_extension = os.path.splitext(file)\n",
    "        if file_extension.lower() in extensions:\n",
    "            file_paths.append(os.path.join(root, file))\n",
    "print(file_paths)\n",
    "\n",
    "data_list = []\n",
    "for file_path in file_paths: \n",
    "    doc = fitz.open(file_path)\n",
    "    #print(doc)\n",
    "    doc_json = []\n",
    "    for page_number, page in enumerate(doc, start=1):\n",
    "        text = \"\"\n",
    "        blocks = page.get_text(\"blocks\")\n",
    "        #print(blocks)\n",
    "        for block in blocks:\n",
    "            text += block[4] + \"\\n\"\n",
    "        page_text = text.strip()\n",
    "        doc_json.append({\"page_number\": page_number, \"page_text\": page_text, \"file_path\":file_path})\n",
    "    \n",
    "    #print(doc_json)\n",
    "    #Write To File\n",
    "    f = open(\"./json/\"+doc.name.replace(\"./pdf/\",\"\")+\".json\", \"w\") \n",
    "    f.write(json.dumps(doc_json))\n",
    "    f.close()\n",
    "    \n",
    "    data_list.append(doc_json)\n",
    "#print(data_list)\n"
   ]
  },
  {
   "cell_type": "code",
   "execution_count": null,
   "id": "4eb85bf4-d6b9-4f2b-b3da-81af16773b36",
   "metadata": {},
   "outputs": [],
   "source": []
  }
 ],
 "metadata": {
  "kernelspec": {
   "display_name": "Python 3 (ipykernel)",
   "language": "python",
   "name": "python3"
  },
  "language_info": {
   "codemirror_mode": {
    "name": "ipython",
    "version": 3
   },
   "file_extension": ".py",
   "mimetype": "text/x-python",
   "name": "python",
   "nbconvert_exporter": "python",
   "pygments_lexer": "ipython3",
   "version": "3.12.3"
  }
 },
 "nbformat": 4,
 "nbformat_minor": 5
}
